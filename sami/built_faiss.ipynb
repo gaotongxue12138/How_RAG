{
 "cells": [
  {
   "cell_type": "code",
   "execution_count": 14,
   "id": "initial_id",
   "metadata": {
    "ExecuteTime": {
     "end_time": "2024-02-18T12:58:36.316559Z",
     "start_time": "2024-02-18T12:58:36.271017Z"
    },
    "collapsed": true
   },
   "outputs": [],
   "source": []
  },
  {
   "cell_type": "code",
   "execution_count": 15,
   "id": "3b6380afff34c424",
   "metadata": {
    "ExecuteTime": {
     "end_time": "2024-02-18T12:58:36.415601Z",
     "start_time": "2024-02-18T12:58:36.274242Z"
    },
    "collapsed": false
   },
   "outputs": [
    {
     "name": "stderr",
     "output_type": "stream",
     "text": [
      "100%|██████████| 3/3 [00:00<00:00, 106.32it/s]\n",
      "Created a chunk of size 96, which is longer than the specified 50\n",
      "Created a chunk of size 52, which is longer than the specified 50\n",
      "Created a chunk of size 67, which is longer than the specified 50\n"
     ]
    }
   ],
   "source": [
    "from langchain_community.document_loaders import DirectoryLoader\n",
    "from langchain.text_splitter import CharacterTextSplitter\n",
    "from langchain_community.vectorstores import FAIS\n",
    "from langchain_openai import OpenAIEmbeddings\n",
    "loader = DirectoryLoader('./data/', glob=\"**/*\", show_progress=True)\n",
    "documents = loader.load()\n",
    "\n",
    "text_splitter = CharacterTextSplitter(chunk_size=50, chunk_overlap=0)\n",
    "texts = text_splitter.split_documents(documents)\n",
    "embeddings = OpenAIEmbeddings()\n",
    "\n",
    "# db = FAISS.from_documents(texts, embeddings)\n",
    "# db.save_local(\"./test_218/\")\n",
    "\n",
    "db = FAISS.load_local(\"./test_218/\", embeddings)\n",
    "retriever = db.as_retriever(search_kwargs={\"k\": 3})\n",
    "\n"
   ]
  },
  {
   "cell_type": "code",
   "execution_count": 16,
   "id": "24f2513e1864433a",
   "metadata": {
    "ExecuteTime": {
     "end_time": "2024-02-18T12:58:36.426352Z",
     "start_time": "2024-02-18T12:58:36.342437Z"
    },
    "collapsed": false
   },
   "outputs": [],
   "source": [
    "from langchain.tools.retriever import create_retriever_tool\n",
    "\n",
    "tool = create_retriever_tool(\n",
    "    retriever,\n",
    "    \"search\",\n",
    "    \"当用户提问关义乌？or关于商家时，需要调用此工具查询相关信息\",\n",
    ")\n",
    "tool1 = \"\"\"\n",
    "高德地图api\n",
    "\"\"\"\n",
    "\n",
    "\n",
    "tools = [tool , tool1]"
   ]
  },
  {
   "cell_type": "code",
   "execution_count": null,
   "id": "ca4742011a28a868",
   "metadata": {
    "collapsed": false
   },
   "outputs": [],
   "source": []
  },
  {
   "cell_type": "code",
   "execution_count": 17,
   "id": "72301b9b57f68515",
   "metadata": {
    "ExecuteTime": {
     "end_time": "2024-02-18T12:58:40.132505Z",
     "start_time": "2024-02-18T12:58:36.346133Z"
    },
    "collapsed": false
   },
   "outputs": [
    {
     "data": {
      "text/plain": [
       "[SystemMessagePromptTemplate(prompt=PromptTemplate(input_variables=[], template='You are a helpful assistant')),\n",
       " MessagesPlaceholder(variable_name='chat_history', optional=True),\n",
       " HumanMessagePromptTemplate(prompt=PromptTemplate(input_variables=['input'], template='{input}')),\n",
       " MessagesPlaceholder(variable_name='agent_scratchpad')]"
      ]
     },
     "execution_count": 17,
     "metadata": {},
     "output_type": "execute_result"
    }
   ],
   "source": [
    "from langchain import hub\n",
    "\n",
    "prompt = hub.pull(\"hwchase17/openai-tools-agent\")\n",
    "prompt.messages"
   ]
  },
  {
   "cell_type": "code",
   "execution_count": 18,
   "id": "941cc6801e296eac",
   "metadata": {
    "ExecuteTime": {
     "end_time": "2024-02-18T12:58:40.150687Z",
     "start_time": "2024-02-18T12:58:40.114851Z"
    },
    "collapsed": false
   },
   "outputs": [],
   "source": [
    "from langchain_openai import ChatOpenAI\n",
    "llm = ChatOpenAI(temperature=0)"
   ]
  },
  {
   "cell_type": "code",
   "execution_count": 19,
   "id": "7315f55b16292ee4",
   "metadata": {
    "ExecuteTime": {
     "end_time": "2024-02-18T12:58:40.331510Z",
     "start_time": "2024-02-18T12:58:40.148439Z"
    },
    "collapsed": false
   },
   "outputs": [],
   "source": [
    "from langchain.agents import AgentExecutor, create_openai_tools_agent\n",
    "\n",
    "agent = create_openai_tools_agent(llm, tools, prompt)\n",
    "agent_executor = AgentExecutor(agent=agent, tools=tools)"
   ]
  },
  {
   "cell_type": "code",
   "execution_count": 19,
   "id": "5a1bf2a79baefa54",
   "metadata": {
    "ExecuteTime": {
     "end_time": "2024-02-18T12:58:40.331698Z",
     "start_time": "2024-02-18T12:58:40.154121Z"
    },
    "collapsed": false
   },
   "outputs": [],
   "source": [
    "# Q1 Faiss()--openaiEmbedding()模型（BGE）\n",
    "# Q2 纠错在身上\n",
    "# Q3 【旧的问题删除掉】\n",
    "# Q4 top-3 做推荐吗、更改top-3的输出？\n",
    "# Q5 LLM 做出推荐，返回图片--- 数据库存储url，LLM自己写sql来检索并返回\n",
    "# Q6 多轮对话->客户画像；\n",
    "\n",
    "\n",
    "\n",
    "# 基于AI 多语言的大众点评： 幻觉\n",
    "# 翻译，选择商店，超市，景点，供应商；\n",
    "\n",
    "# FASTAPI"
   ]
  },
  {
   "cell_type": "code",
   "execution_count": 24,
   "id": "f6b378ac527539e3",
   "metadata": {
    "ExecuteTime": {
     "end_time": "2024-02-18T14:25:37.278392Z",
     "start_time": "2024-02-18T14:25:29.762339Z"
    },
    "collapsed": false
   },
   "outputs": [
    {
     "name": "stdout",
     "output_type": "stream",
     "text": [
      "Yiwu is a city located in Zhejiang Province, China. It is known for the Yiwu Small Commodities Market, which is one of the largest wholesale markets for small commodities in the world. The market covers an area of millions of square meters and includes tens of thousands of shops selling a wide range of products such as daily necessities, handicrafts, toys, flowers, office supplies, clothing, shoes, jewelry, and more. The Yiwu Small Commodities Market originated in the early 1980s and has grown into a massive market system over the years.\n"
     ]
    }
   ],
   "source": [
    "result = agent_executor.invoke({\"input\": \"where is yiwu？\"})\n",
    "print(result['output'])"
   ]
  },
  {
   "cell_type": "code",
   "execution_count": 26,
   "id": "380920727f27e662",
   "metadata": {
    "ExecuteTime": {
     "end_time": "2024-02-18T14:32:09.788926Z",
     "start_time": "2024-02-18T14:32:03.629603Z"
    },
    "collapsed": false
   },
   "outputs": [
    {
     "name": "stdout",
     "output_type": "stream",
     "text": [
      "I found some pet food recommendations for you:\n",
      "\n",
      "1. **Store Name:** Pet Paradise\n",
      "   - **Location:** 789 Future Road, Western New Development Zone, Stardust City\n",
      "   - **Products:** Pet food, pet supplies, small pets\n",
      "\n",
      "2. **Store Name:** Distant Planet Pet Store\n",
      "   - **Products:** Mobile phone accessories, computer accessories, various electronic accessories\n",
      "\n",
      "You can visit these stores to find the pet food you need.\n"
     ]
    }
   ],
   "source": [
    "result = agent_executor.invoke({\"input\": \"I want to buy some pet food, could you give me some recommendations?\"})\n",
    "print(result['output'])"
   ]
  },
  {
   "cell_type": "code",
   "execution_count": 22,
   "id": "a9fa58f4b5f18d31",
   "metadata": {
    "ExecuteTime": {
     "end_time": "2024-02-18T13:00:01.750327Z",
     "start_time": "2024-02-18T12:59:12.152351Z"
    },
    "collapsed": false
   },
   "outputs": [
    {
     "name": "stdout",
     "output_type": "stream",
     "text": [
      "\"لعبت كرة السلة اليوم\"\n"
     ]
    }
   ],
   "source": [
    "result = agent_executor.invoke({\"input\": \"翻译成 阿拉伯语：我今天打了篮球\"})\n",
    "print(result['output'])"
   ]
  },
  {
   "cell_type": "code",
   "execution_count": 23,
   "id": "176724a5c1c257d3",
   "metadata": {
    "ExecuteTime": {
     "end_time": "2024-02-18T13:00:03.148658Z",
     "start_time": "2024-02-18T13:00:01.775094Z"
    },
    "collapsed": false
   },
   "outputs": [
    {
     "name": "stdout",
     "output_type": "stream",
     "text": [
      "你好！有什么可以帮助你的吗？\n"
     ]
    }
   ],
   "source": [
    "result = agent_executor.invoke({\"input\": \"你好？\"})\n",
    "print(result['output'])"
   ]
  },
  {
   "cell_type": "code",
   "execution_count": 22,
   "id": "9605f310884751f1",
   "metadata": {
    "ExecuteTime": {
     "end_time": "2024-02-18T13:00:01.759217Z",
     "start_time": "2024-02-18T13:00:01.748281Z"
    },
    "collapsed": false
   },
   "outputs": [],
   "source": []
  },
  {
   "cell_type": "code",
   "execution_count": 22,
   "id": "d2de56d7be160c23",
   "metadata": {
    "ExecuteTime": {
     "end_time": "2024-02-18T13:00:01.760149Z",
     "start_time": "2024-02-18T13:00:01.757790Z"
    },
    "collapsed": false
   },
   "outputs": [],
   "source": []
  },
  {
   "cell_type": "code",
   "execution_count": 22,
   "id": "a1dded7ce671c59",
   "metadata": {
    "ExecuteTime": {
     "end_time": "2024-02-18T13:00:01.761917Z",
     "start_time": "2024-02-18T13:00:01.759111Z"
    },
    "collapsed": false
   },
   "outputs": [],
   "source": []
  }
 ],
 "metadata": {
  "kernelspec": {
   "display_name": "Python 3",
   "language": "python",
   "name": "python3"
  },
  "language_info": {
   "codemirror_mode": {
    "name": "ipython",
    "version": 2
   },
   "file_extension": ".py",
   "mimetype": "text/x-python",
   "name": "python",
   "nbconvert_exporter": "python",
   "pygments_lexer": "ipython2",
   "version": "2.7.6"
  }
 },
 "nbformat": 4,
 "nbformat_minor": 5
}
